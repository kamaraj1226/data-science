{
  "nbformat": 4,
  "nbformat_minor": 0,
  "metadata": {
    "colab": {
      "name": "day_3.ipynb",
      "provenance": []
    },
    "kernelspec": {
      "name": "python3",
      "display_name": "Python 3"
    }
  },
  "cells": [
    {
      "cell_type": "markdown",
      "metadata": {
        "id": "O8W-tiJ6OHaf"
      },
      "source": [
        "Question 1"
      ]
    },
    {
      "cell_type": "code",
      "metadata": {
        "id": "2ukBi9Flhqzu",
        "outputId": "960fa457-8073-4037-eccd-f5cc82672517",
        "colab": {
          "base_uri": "https://localhost:8080/"
        }
      },
      "source": [
        "import numpy as np\n",
        "\n",
        "arry=np.arange(2,51,3)\n",
        "print(arry)"
      ],
      "execution_count": null,
      "outputs": [
        {
          "output_type": "stream",
          "text": [
            "[ 2  5  8 11 14 17 20 23 26 29 32 35 38 41 44 47 50]\n"
          ],
          "name": "stdout"
        }
      ]
    },
    {
      "cell_type": "markdown",
      "metadata": {
        "id": "8Wv_ZnLNOKZT"
      },
      "source": [
        "Question 2"
      ]
    },
    {
      "cell_type": "code",
      "metadata": {
        "id": "vhCSExohOMEY"
      },
      "source": [
        "import numpy as np\n",
        "list_1 =[int(input()) for i in range(5)]\n",
        "list_2 =[int(input()) for j in range(5)]\n",
        "arr=np.array(list_1+list_2)\n",
        "print(\" \")\n",
        "print(\" \")\n",
        "print(\"Afetr concatenating both input lists \")\n",
        "print(arr)\n",
        "print(\" \")\n",
        "print(\" \")\n",
        "print(\"After sorting the sorted the array\")\n",
        "arr=np.array(sorted(list_1+list_2))\n",
        "print(arr)"
      ],
      "execution_count": null,
      "outputs": []
    },
    {
      "cell_type": "markdown",
      "metadata": {
        "id": "UDkDhOmRQrfC"
      },
      "source": [
        "Question 3"
      ]
    },
    {
      "cell_type": "code",
      "metadata": {
        "id": "LkqydTN_QtKJ",
        "outputId": "0b447c72-ad2e-48c3-aa4f-d52de05411ab",
        "colab": {
          "base_uri": "https://localhost:8080/"
        }
      },
      "source": [
        "import numpy as np\n",
        "arr=np.array([int(i) for i in range(1,13) ])\n",
        "arr.resize(2,2,3)\n",
        "print(\"Size of array: \",arr.size)\n",
        "print(\"Dimenssion of array: \",arr.ndim)\n"
      ],
      "execution_count": null,
      "outputs": [
        {
          "output_type": "stream",
          "text": [
            "Size of array:  12\n",
            "Dimenssion of array:  3\n"
          ],
          "name": "stdout"
        }
      ]
    },
    {
      "cell_type": "markdown",
      "metadata": {
        "id": "3lMci9mMT6Om"
      },
      "source": [
        "Question 4\n",
        "\n",
        "converting 1D array to 2D using \"newaxis\" and \"expand_dims\""
      ]
    },
    {
      "cell_type": "code",
      "metadata": {
        "id": "uIDgTO2ET8Bc",
        "outputId": "376a53b6-2c32-4665-981a-fe8f39388872",
        "colab": {
          "base_uri": "https://localhost:8080/"
        }
      },
      "source": [
        "import numpy as np \n",
        "arr= np.array([2,3,4]) #1D array\n",
        "arr_2=arr[np.newaxis, :] #2D array\n",
        "arr_3= np.expand_dims(arr, axis=0)\n",
        "\n",
        "print(\"dimenssion of arr: \",arr.ndim)\n",
        "print(\"'Conversion of 1D array to 2D using newaxis' \")\n",
        "print(\"Dimenssion of arr_2: \",arr_2.ndim)\n",
        "print(\"'Conversion of 1D array to 2D using expand_dims'\")\n",
        "print(\"Dimenssion of arr_3: \",arr_3.ndim)\n"
      ],
      "execution_count": 15,
      "outputs": [
        {
          "output_type": "stream",
          "text": [
            "dimenssion of arr:  1\n",
            "'Conversion of 1D array to 2D using newaxis' \n",
            "Dimenssion of arr_2:  2\n",
            "'Conversion of 1D array to 2D using expand_dims'\n",
            "Dimenssion of arr_3:  2\n"
          ],
          "name": "stdout"
        }
      ]
    },
    {
      "cell_type": "markdown",
      "metadata": {
        "id": "X1goGYPFIXmt"
      },
      "source": [
        "Question 5"
      ]
    },
    {
      "cell_type": "code",
      "metadata": {
        "id": "lwkRue2KIZx8",
        "outputId": "d2e4b1b0-03cb-41ab-ad46-552263cb50a5",
        "colab": {
          "base_uri": "https://localhost:8080/"
        }
      },
      "source": [
        "import numpy as np \n",
        "a=np.array([1,2,3,4,5])\n",
        "b=np.array([6,7,8,9,10])\n",
        "vertical=np.vstack((a,b))\n",
        "print(\"Vstack \\n\",vertical) \n",
        "horizontal=np.hstack((a,b))\n",
        "print(\"\\n\\nHtack\\n\",horizontal)"
      ],
      "execution_count": 21,
      "outputs": [
        {
          "output_type": "stream",
          "text": [
            "Vstack \n",
            " [[ 1  2  3  4  5]\n",
            " [ 6  7  8  9 10]]\n",
            "\n",
            "\n",
            "Htack\n",
            " [ 1  2  3  4  5  6  7  8  9 10]\n"
          ],
          "name": "stdout"
        }
      ]
    },
    {
      "cell_type": "markdown",
      "metadata": {
        "id": "a3Bmu-QhLA9D"
      },
      "source": [
        "Question 6"
      ]
    },
    {
      "cell_type": "code",
      "metadata": {
        "id": "GLjlt_IWLDYs",
        "outputId": "678fb790-9417-4553-ee3f-8aebe09fe517",
        "colab": {
          "base_uri": "https://localhost:8080/"
        }
      },
      "source": [
        "import numpy as np\n",
        "arr=np.array([3,5,10,9,6,8,10,5,2,4,2,23,45,23,6,9,10])\n",
        "#np.unique gives unique vales in given array \n",
        "# return_counts inside the np.unique() gives the counts of the unique items\n",
        "unique_val,count=np.unique(arr,return_counts=True) \n",
        "\n",
        "print(\"Unique value in array:\\n\",unique_val)\n",
        "print(\"\\n occurance of unique values in array:\\n\",count)"
      ],
      "execution_count": 22,
      "outputs": [
        {
          "output_type": "stream",
          "text": [
            "Unique value in array:\n",
            " [ 2  3  4  5  6  8  9 10 23 45]\n",
            "\n",
            " occurance of unique values in array:\n",
            " [2 1 1 2 2 1 2 3 2 1]\n"
          ],
          "name": "stdout"
        }
      ]
    }
  ]
}