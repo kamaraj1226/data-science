{
  "nbformat": 4,
  "nbformat_minor": 0,
  "metadata": {
    "colab": {
      "name": "day 2.ipynb",
      "provenance": []
    },
    "kernelspec": {
      "name": "python3",
      "display_name": "Python 3"
    }
  },
  "cells": [
    {
      "cell_type": "markdown",
      "metadata": {
        "id": "rxhGrrzxfJPG"
      },
      "source": [
        "Question 1"
      ]
    },
    {
      "cell_type": "code",
      "metadata": {
        "id": "Zw3b2JzzfNF2"
      },
      "source": [
        "empy_list=[]\n",
        "for i in range(10):\n",
        "  a=int(input())\n",
        "  if a%2==0:\n",
        "    empy_list.append(a)\n",
        "\n",
        "print(empy_list)\n"
      ],
      "execution_count": null,
      "outputs": []
    },
    {
      "cell_type": "markdown",
      "metadata": {
        "id": "LBjA_XgogP6R"
      },
      "source": [
        "Question 2"
      ]
    },
    {
      "cell_type": "code",
      "metadata": {
        "id": "GAFDrnoxgRds"
      },
      "source": [
        "empy_list=[]\n",
        "for i in range(10):\n",
        "  a=int(input())\n",
        "  empy_list.append(a)\n",
        "\n",
        "even=[int(j) for j in empy_list if j%2==0]\n",
        "odd = [int(k) for k in empy_list if k%2 !=0]\n"
      ],
      "execution_count": null,
      "outputs": []
    },
    {
      "cell_type": "markdown",
      "metadata": {
        "id": "gJxhxJONicTo"
      },
      "source": [
        "Question 3"
      ]
    },
    {
      "cell_type": "code",
      "metadata": {
        "id": "8xyKvPUBid-W"
      },
      "source": [
        "#print({i:i*i for i in range(1,(int(input()))+1)})\n",
        "n=int(input())\n",
        "print({i:i*i for i in range(1,n+1)} )"
      ],
      "execution_count": null,
      "outputs": []
    },
    {
      "cell_type": "markdown",
      "metadata": {
        "id": "kTkQOYP3mo__"
      },
      "source": [
        "Question 4"
      ]
    },
    {
      "cell_type": "code",
      "metadata": {
        "id": "3cuCIB91mqs2",
        "outputId": "1410825a-a69f-4535-a32b-333c150b2c37",
        "colab": {
          "base_uri": "https://localhost:8080/"
        }
      },
      "source": [
        "import math\n",
        "\n",
        "def x_axis_cal(x_axis):\n",
        "  global x2\n",
        "  x2=0\n",
        "  for j in range(len(x_axis)):\n",
        "    if x_axis[j][0] == \"RIGHT\":\n",
        "      x2+=x_axis[j][1]\n",
        "    else:\n",
        "      x2-=x_axis[j][1]\n",
        "\n",
        "\n",
        "def y_axis_cal(y_axis):\n",
        "  global y2\n",
        "  y2=0\n",
        "  for j in range(len(y_axis)):\n",
        "    if y_axis[j][0] == \"UP\":\n",
        "      y2+=y_axis[j][1]\n",
        "    else:\n",
        "      y2-=y_axis[j][1]\n",
        "\n",
        "\n",
        "  \n",
        "x1=0\n",
        "y1=0\n",
        "n=round(int(input()))\n",
        "input_list=[]\n",
        "for i in range(n):\n",
        "  a=input()\n",
        "  a.strip()\n",
        "  b=a.split()\n",
        "  b[1]=int(b[1])\n",
        "  input_list.append(b)\n",
        "x_axis=[]\n",
        "y_axis=[]\n",
        "for j in range(len(input_list)):\n",
        "  if input_list[j][0] == \"UP\" or input_list[j][0] == \"DOWN\":\n",
        "    y_axis.append(input_list[j])\n",
        "  else:\n",
        "    x_axis.append(input_list[j])\n",
        "\n",
        "x_axis_cal(x_axis)\n",
        "y_axis_cal(y_axis)\n",
        "\n",
        "print(round(math.sqrt(math.pow((x2-x1),2)+math.pow((y2-y1),2))))\n",
        "\n",
        "\n",
        "\n",
        "\n",
        "\n",
        "\n"
      ],
      "execution_count": 33,
      "outputs": [
        {
          "output_type": "stream",
          "text": [
            "4\n",
            "UP 5\n",
            "DOWN 3\n",
            "LEFT 3\n",
            "RIGHT 2\n",
            "2\n"
          ],
          "name": "stdout"
        }
      ]
    }
  ]
}