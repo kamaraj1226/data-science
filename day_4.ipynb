{
  "nbformat": 4,
  "nbformat_minor": 0,
  "metadata": {
    "colab": {
      "name": "day_4.ipynb",
      "provenance": []
    },
    "kernelspec": {
      "name": "python3",
      "display_name": "Python 3"
    }
  },
  "cells": [
    {
      "cell_type": "markdown",
      "metadata": {
        "id": "UtoNedQeNvdd"
      },
      "source": [
        "Question 1"
      ]
    },
    {
      "cell_type": "code",
      "metadata": {
        "id": "HvsoUHP-NylX",
        "outputId": "656aed1a-ae66-4a96-a204-c8c77979e6f2",
        "colab": {
          "base_uri": "https://localhost:8080/"
        }
      },
      "source": [
        "import pandas as pd\n",
        "\n",
        "print(pd.__version__)"
      ],
      "execution_count": 1,
      "outputs": [
        {
          "output_type": "stream",
          "text": [
            "1.1.4\n"
          ],
          "name": "stdout"
        }
      ]
    },
    {
      "cell_type": "markdown",
      "metadata": {
        "id": "nOXDBNlRPls1"
      },
      "source": [
        "Question 2"
      ]
    },
    {
      "cell_type": "code",
      "metadata": {
        "id": "Dn75hPO2PnIl",
        "outputId": "fd3b68a9-fcc5-4ab4-b87c-a569e3fb9737",
        "colab": {
          "base_uri": "https://localhost:8080/"
        }
      },
      "source": [
        "import pandas as pd\n",
        "import numpy as np\n",
        "\n",
        "arr=np.array(['H','E','L','L','O'])\n",
        "series=pd.Series(arr)\n",
        "print(series)"
      ],
      "execution_count": 2,
      "outputs": [
        {
          "output_type": "stream",
          "text": [
            "0    H\n",
            "1    E\n",
            "2    L\n",
            "3    L\n",
            "4    O\n",
            "dtype: object\n"
          ],
          "name": "stdout"
        }
      ]
    },
    {
      "cell_type": "markdown",
      "metadata": {
        "id": "n0BcJnzgP_84"
      },
      "source": [
        "Quesition 3"
      ]
    },
    {
      "cell_type": "code",
      "metadata": {
        "id": "mZTINwLlQCob",
        "outputId": "35ab8d41-dda0-4953-c063-25feb81437b0",
        "colab": {
          "base_uri": "https://localhost:8080/"
        }
      },
      "source": [
        "import pandas as pd\n",
        "\n",
        "values={'Name':['jack','jill','klaus','elija'],'Age':[15,17,27,29]}\n",
        "\n",
        "s=pd.DataFrame(values)\n",
        "print(s)\n"
      ],
      "execution_count": 3,
      "outputs": [
        {
          "output_type": "stream",
          "text": [
            "    Name  Age\n",
            "0   jack   15\n",
            "1   jill   17\n",
            "2  klaus   27\n",
            "3  elija   29\n"
          ],
          "name": "stdout"
        }
      ]
    },
    {
      "cell_type": "markdown",
      "metadata": {
        "id": "AywNg6hBRXKl"
      },
      "source": [
        "Question 4"
      ]
    },
    {
      "cell_type": "code",
      "metadata": {
        "id": "C9r1CnJRRYh2",
        "outputId": "a6faf2f5-7ea8-492d-ceb3-dc717082a910",
        "colab": {
          "base_uri": "https://localhost:8080/"
        }
      },
      "source": [
        "import seaborn as sb\n",
        "\n",
        "print(sb.get_dataset_names())\n",
        "\n",
        "mpg_loading=sb.load_dataset('mpg')\n",
        "print(mpg_loading)\n"
      ],
      "execution_count": 5,
      "outputs": [
        {
          "output_type": "stream",
          "text": [
            "['anagrams', 'anscombe', 'attention', 'brain_networks', 'car_crashes', 'diamonds', 'dots', 'exercise', 'flights', 'fmri', 'gammas', 'geyser', 'iris', 'mpg', 'penguins', 'planets', 'tips', 'titanic']\n",
            "      mpg  cylinders  ...  origin                       name\n",
            "0    18.0          8  ...     usa  chevrolet chevelle malibu\n",
            "1    15.0          8  ...     usa          buick skylark 320\n",
            "2    18.0          8  ...     usa         plymouth satellite\n",
            "3    16.0          8  ...     usa              amc rebel sst\n",
            "4    17.0          8  ...     usa                ford torino\n",
            "..    ...        ...  ...     ...                        ...\n",
            "393  27.0          4  ...     usa            ford mustang gl\n",
            "394  44.0          4  ...  europe                  vw pickup\n",
            "395  32.0          4  ...     usa              dodge rampage\n",
            "396  28.0          4  ...     usa                ford ranger\n",
            "397  31.0          4  ...     usa                 chevy s-10\n",
            "\n",
            "[398 rows x 9 columns]\n"
          ],
          "name": "stdout"
        }
      ]
    },
    {
      "cell_type": "markdown",
      "metadata": {
        "id": "jIYsW5C2Xxkg"
      },
      "source": [
        "Question 5"
      ]
    },
    {
      "cell_type": "code",
      "metadata": {
        "id": "FMqgEQ2tXyzT",
        "outputId": "59d49e03-700f-414c-aa52-4051847426ed",
        "colab": {
          "base_uri": "https://localhost:8080/"
        }
      },
      "source": [
        "import seaborn as sb\n",
        "\n",
        "mpg_loading=sb.load_dataset('mpg')\n",
        "\n",
        "print(mpg_loading['origin'].unique())"
      ],
      "execution_count": 10,
      "outputs": [
        {
          "output_type": "stream",
          "text": [
            "['usa' 'japan' 'europe']\n"
          ],
          "name": "stdout"
        }
      ]
    },
    {
      "cell_type": "markdown",
      "metadata": {
        "id": "sLE4JYzra5_9"
      },
      "source": [
        "Question 6"
      ]
    },
    {
      "cell_type": "code",
      "metadata": {
        "id": "EQdhu8iDa7wR",
        "outputId": "18349888-aa22-44c8-fbc7-18ed79945014",
        "colab": {
          "base_uri": "https://localhost:8080/"
        }
      },
      "source": [
        "import seaborn as sb\n",
        "import pandas as pd\n",
        "\n",
        "mpg_data=sb.load_dataset('mpg')\n",
        "db=pd.DataFrame(mpg_data)\n",
        "print(db[db['origin']=='usa'])"
      ],
      "execution_count": 14,
      "outputs": [
        {
          "output_type": "stream",
          "text": [
            "      mpg  cylinders  ...  origin                       name\n",
            "0    18.0          8  ...     usa  chevrolet chevelle malibu\n",
            "1    15.0          8  ...     usa          buick skylark 320\n",
            "2    18.0          8  ...     usa         plymouth satellite\n",
            "3    16.0          8  ...     usa              amc rebel sst\n",
            "4    17.0          8  ...     usa                ford torino\n",
            "..    ...        ...  ...     ...                        ...\n",
            "392  27.0          4  ...     usa           chevrolet camaro\n",
            "393  27.0          4  ...     usa            ford mustang gl\n",
            "395  32.0          4  ...     usa              dodge rampage\n",
            "396  28.0          4  ...     usa                ford ranger\n",
            "397  31.0          4  ...     usa                 chevy s-10\n",
            "\n",
            "[249 rows x 9 columns]\n"
          ],
          "name": "stdout"
        }
      ]
    }
  ]
}