{
  "nbformat": 4,
  "nbformat_minor": 0,
  "metadata": {
    "colab": {
      "name": "day1.ipynb",
      "provenance": []
    },
    "kernelspec": {
      "name": "python3",
      "display_name": "Python 3"
    }
  },
  "cells": [
    {
      "cell_type": "markdown",
      "metadata": {
        "id": "T_VUnIiDp_7S"
      },
      "source": [
        "Question 1"
      ]
    },
    {
      "cell_type": "code",
      "metadata": {
        "id": "2bkzcEyOoeDi"
      },
      "source": [
        "in_1=\"OBANWRI\"\n",
        "list_1=[\"RANIBOW\",\"RAINBOW\",\"BOWRANI\",\"ROBWANI\"]\n",
        "if \"OBANWRI\" ==in_1:\n",
        "  print(list_1[1])"
      ],
      "execution_count": null,
      "outputs": []
    },
    {
      "cell_type": "markdown",
      "metadata": {
        "id": "aXyWctSyqLBj"
      },
      "source": [
        "Question 2"
      ]
    },
    {
      "cell_type": "code",
      "metadata": {
        "id": "TI6EhmtpqOUY"
      },
      "source": [
        "print(\"LETS UPGRADE\")"
      ],
      "execution_count": null,
      "outputs": []
    },
    {
      "cell_type": "markdown",
      "metadata": {
        "id": "jmqi_-VqsWgv"
      },
      "source": [
        "Question 3"
      ]
    },
    {
      "cell_type": "code",
      "metadata": {
        "id": "6g5qPTadsYc1"
      },
      "source": [
        "c_p=int(input())\n",
        "s_p=int(input())\n",
        "if(s_p>c_p):\n",
        "  print(\"Profit\")\n",
        "else:\n",
        "  print(\"Loss\")"
      ],
      "execution_count": null,
      "outputs": []
    },
    {
      "cell_type": "markdown",
      "metadata": {
        "id": "BndVn-VMtP4b"
      },
      "source": [
        "Question 4"
      ]
    },
    {
      "cell_type": "code",
      "metadata": {
        "id": "1dRYs_o6tTFI"
      },
      "source": [
        "print(int(input())*80)"
      ],
      "execution_count": null,
      "outputs": []
    }
  ]
}